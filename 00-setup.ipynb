{
 "cells": [
  {
   "cell_type": "markdown",
   "metadata": {},
   "source": [
    "# Set up some stuff --"
   ]
  },
  {
   "cell_type": "code",
   "execution_count": 1,
   "metadata": {},
   "outputs": [
    {
     "name": "stdout",
     "output_type": "stream",
     "text": [
      "/Users/t/dev/2020-jgi-tech-talk/data\r\n",
      "make: Nothing to be done for `all'.\r\n"
     ]
    }
   ],
   "source": [
    "# download data\n",
    "!cd data && make"
   ]
  },
  {
   "cell_type": "code",
   "execution_count": 2,
   "metadata": {},
   "outputs": [
    {
     "data": {
      "text/plain": [
       "'3.2.4.dev5+g6484e78f'"
      ]
     },
     "execution_count": 2,
     "metadata": {},
     "output_type": "execute_result"
    }
   ],
   "source": [
    "import sourmash\n",
    "sourmash.VERSION"
   ]
  },
  {
   "cell_type": "code",
   "execution_count": 3,
   "metadata": {},
   "outputs": [
    {
     "name": "stdout",
     "output_type": "stream",
     "text": [
      "\r",
      "\u001b[K\r\n",
      "== This is sourmash version 3.2.4.dev5+g6484e78f. ==\r\n",
      "\r",
      "\u001b[K== Please cite Brown and Irber (2016), doi:10.21105/joss.00027. ==\r\n",
      "\r\n",
      "Compute, compare, manipulate, and analyze MinHash sketches of DNA sequences.\r\n",
      "\r\n",
      "Usage instructions:\r\n",
      "    Basic operations\r\n",
      "        sourmash compare --help   compare sequence signatures made by compute\r\n",
      "        sourmash compute --help   compute sequence signatures for inputs\r\n",
      "        sourmash gather --help    search a metagenome signature against dbs\r\n",
      "        sourmash index --help     index signatures for rapid search\r\n",
      "        sourmash info --help      display sourmash version and other information\r\n",
      "        sourmash plot --help      plot distance matrix made by 'compare'\r\n",
      "        sourmash search --help    search a signature against other signatures\r\n",
      "\r\n",
      "    Taxonomic operations\r\n",
      "        sourmash lca --help\r\n",
      "\r\n",
      "    Manipulate signature files\r\n",
      "        sourmash sig --help\r\n",
      "        sourmash signature --help\r\n",
      "\r\n",
      "    Operations on storage\r\n",
      "        sourmash storage --help\r\n",
      "\r\n",
      "Options:\r\n",
      "  -h, --help     show this help message and exit\r\n",
      "  -v, --version  show program's version number and exit\r\n",
      "  -q, --quiet    don't print citation information\r\n"
     ]
    }
   ],
   "source": [
    "# check that we can both import and run sourmash\n",
    "!sourmash"
   ]
  },
  {
   "cell_type": "code",
   "execution_count": null,
   "metadata": {},
   "outputs": [],
   "source": []
  }
 ],
 "metadata": {
  "kernelspec": {
   "display_name": "Python (myenv)",
   "language": "python",
   "name": "myenv"
  },
  "language_info": {
   "codemirror_mode": {
    "name": "ipython",
    "version": 3
   },
   "file_extension": ".py",
   "mimetype": "text/x-python",
   "name": "python",
   "nbconvert_exporter": "python",
   "pygments_lexer": "ipython3",
   "version": "3.7.6"
  }
 },
 "nbformat": 4,
 "nbformat_minor": 4
}
