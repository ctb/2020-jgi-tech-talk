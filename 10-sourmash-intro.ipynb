{
 "cells": [
  {
   "cell_type": "markdown",
   "metadata": {},
   "source": [
    "# Welcome!\n",
    "\n"
   ]
  },
  {
   "cell_type": "markdown",
   "metadata": {},
   "source": [
    "## Resources for today\n",
    "\n",
    "Materials are all here: https://github.com/ctb/2020-jgi-tech-talk\n",
    "\n",
    "You can run via the binder links in the README.\n",
    "\n",
    "To install stuff locally, install conda/bioconda, and then do\n",
    "\n",
    "```\n",
    "conda env create -f environment.yml -n jgi\n",
    "conda activate jgi\n",
    "```\n",
    "\n",
    "& everything should be runnable in that environment."
   ]
  },
  {
   "cell_type": "markdown",
   "metadata": {},
   "source": [
    "## This is being livestreamed\n",
    "\n",
    "at https://twitch.tv/ctitusbrown - I will update with archived video.\n",
    "\n",
    "You can ask questions there, or on Twitter, hashtag #TitusAtJGI. Tag in @ctitusbrown if you like."
   ]
  },
  {
   "cell_type": "markdown",
   "metadata": {},
   "source": [
    "## Goals for today's \"tech talk\"\n",
    "\n",
    "- open code/open source/contributions and use cases welcome\n",
    "- sales pitch for current ideas, and let’s all do cool new things too!\n",
    "- please take code and remix and improve ideas!\n",
    "- does live-streaming work for training?\n"
   ]
  },
  {
   "cell_type": "markdown",
   "metadata": {},
   "source": [
    "## Target audience for today's talk\n",
    "\n",
    "This is going to be reasonably technical, and you should probably know what a k-mer is and have done some bioinformatics work. But you won't need to understand Python. And you can always ask what I'm doing on chat or via twitter!"
   ]
  },
  {
   "cell_type": "markdown",
   "metadata": {},
   "source": [
    "## Acknowledgements\n",
    "\n",
    "sourmash represents a deep collaboration with Luiz Irber, a CS PhD student here at UC Davis. Thank you, Luiz! (You should [follow him on Twitter!](https://twitter.com/luizirber/)\n",
    "\n",
    "Many, many other people have contributed to sourmash. In addition to [the official code authors](https://github.com/dib-lab/sourmash/issues/622), I want to highlight the following:\n",
    "* Taylor Reiter has been one of the main \"expert users\" of sourmash, and has driven many of the use cases.\n",
    "* Phillip Brooks greatly informed the early benchmarking and development of sourmash.\n",
    "* Olga Botvinnik and her colleagues at CZ Bio Hub have started to contribute significant new code and use cases to sourmash in the last two years.\n",
    "* Tessa Pierce and Harriet Alexander have contributed many great ideas.\n",
    "* Laurent Gautier was one of the first outside developers of sourmash and his enthusiasm was inspiring.\n",
    "* Adrian Viehweger periodically drops by and asks innocuous questions that frequently lead to us discovering bugs ;)\n",
    "* David Koslicki keeps us on our toes mathematically, as well as serving on Luiz's thesis committee!\n",
    "\n",
    "The Moore Foundation funded the majority of work on sourmash as part of the Data Driven Discovery Initiative via grant GBMF4551 to me. Thanks especially to Chris Mentzel and Carly Strasser for their support over the last 10 years!"
   ]
  },
  {
   "cell_type": "markdown",
   "metadata": {},
   "source": [
    "# Other resources\n",
    "\n",
    "## sourmash documentation\n",
    "\n",
    "https://sourmash.readthedocs.io/en/latest/\n",
    "\n",
    "Some tutorials and stuff there -- https://sourmash.readthedocs.io/en/latest/tutorials.html"
   ]
  }
 ],
 "metadata": {
  "kernelspec": {
   "display_name": "Python (myenv)",
   "language": "python",
   "name": "myenv"
  },
  "language_info": {
   "codemirror_mode": {
    "name": "ipython",
    "version": 3
   },
   "file_extension": ".py",
   "mimetype": "text/x-python",
   "name": "python",
   "nbconvert_exporter": "python",
   "pygments_lexer": "ipython3",
   "version": "3.7.6"
  }
 },
 "nbformat": 4,
 "nbformat_minor": 4
}
