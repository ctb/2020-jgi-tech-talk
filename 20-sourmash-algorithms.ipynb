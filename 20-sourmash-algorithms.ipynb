{
 "cells": [
  {
   "cell_type": "code",
   "execution_count": null,
   "metadata": {},
   "outputs": [],
   "source": [
    "%pylab inline"
   ]
  },
  {
   "cell_type": "markdown",
   "metadata": {},
   "source": [
    "# sourmash algorithms and implementation"
   ]
  },
  {
   "cell_type": "markdown",
   "metadata": {},
   "source": [
    "topics:\n",
    "    \n",
    "* modulo hash, \"density hashing\",\n",
    "    * https://github.com/dib-lab/sourmash/issues/823\n",
    "    * https://github.com/dib-lab/sourmash/issues/606\n",
    "    * https://github.com/richarddurbin/modimizer\n",
    "* 'scaled' implementation, and using scaled hashes for Jaccard similarity and containment calculations\n",
    "    * with a scaled of 10,000, you get approximately 1 hash per every 10kb of sequence\n",
    "    * see [graph at 10kb](https://github.com/dib-lab/charcoal/blob/master/stats/stats10k.png), [graph at 5kb](https://github.com/dib-lab/charcoal/blob/master/stats/stats5k.png)\n",
    "    * (similar statistics apply on a stream of distinct k-mers)\n",
    "* looking in more depth at the signatures\n",
    "* manipulating signatures (command line, Python, etc.)\n",
    "* downsampling in particular\n",
    "* ...hash matches do indeed correspond to nucleotide alignments!\n",
    "* downsides of scaled approach:\n",
    "    * don't work for small genomes\n",
    "    * arbitrary growth in size (so may be unnecessarily large for large genomes!)\n",
    "    \n",
    "tl;dr sourmash is basically many thousands of lines of code around doing this stuff with reasonable efficiency and care."
   ]
  },
  {
   "cell_type": "code",
   "execution_count": null,
   "metadata": {},
   "outputs": [],
   "source": []
  }
 ],
 "metadata": {
  "kernelspec": {
   "display_name": "Python (myenv)",
   "language": "python",
   "name": "myenv"
  },
  "language_info": {
   "codemirror_mode": {
    "name": "ipython",
    "version": 3
   },
   "file_extension": ".py",
   "mimetype": "text/x-python",
   "name": "python",
   "nbconvert_exporter": "python",
   "pygments_lexer": "ipython3",
   "version": "3.7.6"
  }
 },
 "nbformat": 4,
 "nbformat_minor": 4
}
