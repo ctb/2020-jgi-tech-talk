{
 "cells": [
  {
   "cell_type": "markdown",
   "metadata": {},
   "source": [
    "# metagenome analysis with `sourmash gather`"
   ]
  },
  {
   "cell_type": "markdown",
   "metadata": {},
   "source": [
    "* simple algorithm to implement: report best containment match to query, subtract from query, iterate\n",
    "* this gives a compositional breakdown of a metagenome\n",
    "* this is a greedy combinatorial search for collections of k-mers\n",
    "* (demonstration, and reimplementation)\n",
    "* benchmarking and discussion is part of @luizirber's thesis, but I have been authorized to make the following statement:\n",
    "\n",
    "> we followed the CAMI recommendations for benchmarking sourmash with other taxonomic profiling tools, and we have better recall and precision using a fraction of the computational resources, and can scale to two orders of magnitude more reference datasets than other tools can support\n",
    "\n",
    "* explore some results [here](https://luizirber.github.io/2020-cami/cami_ii_mg/opal_output_all/results.html)\n",
    "* does not fail due to saturation of LCA taxonomy (c.f. [Nasko et al., 2018](https://www.ncbi.nlm.nih.gov/pmc/articles/PMC6206640/)\n",
    "* gives decent strain level resolution (again, b/c of combinatorsi)\n"
   ]
  },
  {
   "cell_type": "code",
   "execution_count": null,
   "metadata": {},
   "outputs": [],
   "source": []
  }
 ],
 "metadata": {
  "kernelspec": {
   "display_name": "Python (myenv)",
   "language": "python",
   "name": "myenv"
  },
  "language_info": {
   "codemirror_mode": {
    "name": "ipython",
    "version": 3
   },
   "file_extension": ".py",
   "mimetype": "text/x-python",
   "name": "python",
   "nbconvert_exporter": "python",
   "pygments_lexer": "ipython3",
   "version": "3.7.6"
  }
 },
 "nbformat": 4,
 "nbformat_minor": 4
}
