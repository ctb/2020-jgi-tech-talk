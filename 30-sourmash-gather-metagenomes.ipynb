{
 "cells": [
  {
   "cell_type": "markdown",
   "metadata": {},
   "source": [
    "# metagenome analysis with `sourmash gather`"
   ]
  },
  {
   "cell_type": "markdown",
   "metadata": {},
   "source": [
    "* simple algorithm to implement: report best containment match to query, subtract from query, iterate\n",
    "* this gives a compositional breakdown of a metagenome\n",
    "* this is a greedy combinatorial search for collections of k-mers\n",
    "* (demonstration, and reimplementation)\n",
    "* benchmarking and discussion is part of @luizirber's thesis, but I have been authorized to make the following statement:\n",
    "\n",
    "> we followed the CAMI recommendations for benchmarking sourmash with other taxonomic profiling tools, and we have better recall and precision using a fraction of the computational resources, and can scale to two orders of magnitude more reference datasets than other tools can support\n",
    "\n",
    "* explore some results [here](https://luizirber.github.io/2020-cami/cami_ii_mg/opal_output_all/results.html)\n",
    "* does not fail due to saturation of LCA taxonomy (c.f. [Nasko et al., 2018](https://www.ncbi.nlm.nih.gov/pmc/articles/PMC6206640/)\n",
    "* gives decent strain level resolution (again, b/c of combinatorics))\n"
   ]
  },
  {
   "cell_type": "code",
   "execution_count": 1,
   "metadata": {},
   "outputs": [
    {
     "name": "stdout",
     "output_type": "stream",
     "text": [
      "\u001b[34mMAGs\u001b[m\u001b[m/                           gtdb-release89-k31.lca.json.gz\r\n",
      "Makefile                        gtdb-release89-k31.sbt.zip\r\n",
      "README.md                       iHMP-PSM7J4EF.sig\r\n",
      "\u001b[34mTara-MS\u001b[m\u001b[m/                        podar-lineage.csv\r\n",
      "akker-reads.abundtrim.gz        shew-reads.abundtrim.gz\r\n",
      "\u001b[34mbak\u001b[m\u001b[m/                            twofoo.fq.gz\r\n",
      "\u001b[34mgenomes\u001b[m\u001b[m/\r\n"
     ]
    }
   ],
   "source": [
    "ls data"
   ]
  },
  {
   "cell_type": "code",
   "execution_count": 2,
   "metadata": {},
   "outputs": [
    {
     "name": "stdout",
     "output_type": "stream",
     "text": [
      "\u001b[K\n",
      "== This is sourmash version 3.2.4.dev5+g6484e78f. ==\n",
      "\u001b[K== Please cite Brown and Irber (2016), doi:10.21105/joss.00027. ==\n",
      "\n",
      "\u001b[Kloaded 3 signatures total.ata/iHMP-PSM7J4EF.sig...\n",
      "---\n",
      "signature filename: data/iHMP-PSM7J4EF.sig\n",
      "signature: outputs/abundtrim/PSM7J4EF.abundtrim.fq.gz\n",
      "source file: outputs/abundtrim/PSM7J4EF.abundtrim.fq.gz\n",
      "md5: 9a540c534967433dc55b89a7d21e0369\n",
      "k=21 molecule=DNA num=0 scaled=2000 seed=42 track_abundance=1\n",
      "size: 24371\n",
      "signature license: CC0\n",
      "\n",
      "---\n",
      "signature filename: data/iHMP-PSM7J4EF.sig\n",
      "signature: outputs/abundtrim/PSM7J4EF.abundtrim.fq.gz\n",
      "source file: outputs/abundtrim/PSM7J4EF.abundtrim.fq.gz\n",
      "md5: 75c3a04d70b7220a3aae46cb343e6361\n",
      "k=31 molecule=DNA num=0 scaled=2000 seed=42 track_abundance=1\n",
      "size: 23058\n",
      "signature license: CC0\n",
      "\n",
      "---\n",
      "signature filename: data/iHMP-PSM7J4EF.sig\n",
      "signature: outputs/abundtrim/PSM7J4EF.abundtrim.fq.gz\n",
      "source file: outputs/abundtrim/PSM7J4EF.abundtrim.fq.gz\n",
      "md5: 282f85f9323c946898cc01bc791ed9ea\n",
      "k=51 molecule=DNA num=0 scaled=2000 seed=42 track_abundance=1\n",
      "size: 18545\n",
      "signature license: CC0\n",
      "\n"
     ]
    }
   ],
   "source": [
    "!sourmash sig describe data/iHMP-PSM7J4EF.sig"
   ]
  },
  {
   "cell_type": "code",
   "execution_count": 3,
   "metadata": {},
   "outputs": [
    {
     "name": "stdout",
     "output_type": "stream",
     "text": [
      "\u001b[K\n",
      "== This is sourmash version 3.2.4.dev5+g6484e78f. ==\n",
      "\u001b[K== Please cite Brown and Irber (2016), doi:10.21105/joss.00027. ==\n",
      "\n",
      "\u001b[Kselecting default query k=31.\n",
      "\u001b[Kloaded query: outputs/abundtrim/PSM7J4EF.abu... (k=31, DNA)\n",
      "\u001b[Kloaded 1 databases.                                                            \n",
      "\n",
      "\n",
      "overlap     p_query p_match avg_abund\n",
      "---------   ------- ------- ---------\n",
      "4.1 Mbp       20.1%   72.0%       6.5    GCF_000156075 s__Bacteroides_B dorei\n",
      "2.2 Mbp        4.7%   44.3%       2.8    GCF_000025985 s__Bacteroides fragilis\n",
      "2.1 Mbp        3.5%   42.1%       2.2    GCF_000690815 s__Escherichia coli\n",
      "1.9 Mbp        3.7%   29.3%       2.6    GCF_001314995 s__Bacteroides ovatus\n",
      "1.5 Mbp        2.6%   31.8%       2.4    GCF_000154205 s__Bacteroides uniformis\n",
      "1.2 Mbp        2.4%   43.0%       2.7    GCF_900112995 s__Lachnospira rogosae\n",
      "1.0 Mbp        2.0%   48.2%       2.6    GCA_000980495 s__Parasutterella sp000...\n",
      "0.9 Mbp        2.0%   27.2%       3.0    GCF_000020605 s__Agathobacter rectale\n",
      "0.8 Mbp        1.8%   44.6%       2.8    GCF_000160055 s__Dialister invisus\n",
      "1.0 Mbp        1.2%   26.4%       2.1    GCF_000205025 s__Parasutterella excre...\n",
      "0.7 Mbp        1.1%   19.8%       2.3    GCF_003024715 s__Clostridium_Q sp0030...\n",
      "0.7 Mbp        1.2%   19.7%       2.6    GCF_000162015 s__Faecalibacterium pra...\n",
      "0.7 Mbp        0.9%   15.0%       1.8    GCF_000155815 s__Bacteroides eggerthii\n",
      "1.1 Mbp        1.0%    8.9%       2.7    GCA_000210075 s__Bacteroides xylaniso...\n",
      "486.0 kbp      0.7%   15.6%       2.0    GCF_000154065 s__Dorea longicatena\n",
      "0.5 Mbp        0.7%   14.7%       2.2    GCF_002549755 s__Faecalibacterium pra...\n",
      "446.0 kbp      0.6%    9.5%       1.9    GCF_000012845 s__Parabacteroides dist...\n",
      "426.0 kbp      0.5%   16.0%       1.7    GCF_000154465 s__Alistipes putredinis\n",
      "426.0 kbp      0.7%   10.3%       2.5    GCF_001405555 s__Fusicatenibacter sac...\n",
      "346.0 kbp      0.4%   15.9%       1.7    GCF_900343095 s__Dialister sp900343095\n",
      "326.0 kbp      0.5%   15.7%       2.1    GCA_000435815 s__Eubacterium_G sp0004...\n",
      "332.0 kbp      0.5%   13.3%       2.1    GCF_001404655 s__Anaerostipes hadrus_A\n",
      "412.0 kbp      0.5%   10.4%       2.3    GCA_003293635 s__Faecalibacterium pra...\n",
      "^C\n",
      "Traceback (most recent call last):\n",
      "  File \"/Users/t/miniconda3/envs/py37/bin/sourmash\", line 11, in <module>\n",
      "    load_entry_point('sourmash', 'console_scripts', 'sourmash')()\n",
      "  File \"/Users/t/dev/sourmash/sourmash/__main__.py\", line 14, in main\n",
      "    return mainmethod(args)\n",
      "  File \"/Users/t/dev/sourmash/sourmash/cli/gather.py\", line 56, in main\n",
      "    return sourmash.commands.gather(args)\n",
      "  File \"/Users/t/dev/sourmash/sourmash/commands.py\", line 610, in gather\n",
      "    for result, weighted_missed, new_max_hash, next_query in gather_databases(query, databases, args.threshold_bp, args.ignore_abundance):\n",
      "  File \"/Users/t/dev/sourmash/sourmash/search.py\", line 129, in gather_databases\n",
      "    threshold_bp)\n",
      "  File \"/Users/t/dev/sourmash/sourmash/search.py\", line 85, in _find_best\n",
      "    for cont, match, fname in obj.gather(query, threshold_bp=threshold_bp):\n",
      "  File \"/Users/t/dev/sourmash/sourmash/sbt.py\", line 365, in gather\n",
      "    unload_data=unload_data):\n",
      "  File \"/Users/t/dev/sourmash/sourmash/sbt.py\", line 265, in find\n",
      "    if search_fn(node_g, *args):\n",
      "  File \"/Users/t/dev/sourmash/sourmash/sbtmh.py\", line 181, in search\n",
      "    matches = node.data.matches(mh)\n",
      "  File \"/Users/t/dev/sourmash/sourmash/nodegraph.py\", line 89, in matches\n",
      "    return self._methodcall(lib.nodegraph_matches, mh._objptr)\n",
      "  File \"/Users/t/dev/sourmash/sourmash/utils.py\", line 25, in _methodcall\n",
      "    return rustcall(func, self._get_objptr(), *args)\n",
      "  File \"/Users/t/dev/sourmash/sourmash/utils.py\", line 68, in rustcall\n",
      "    rv = func(*args)\n",
      "KeyboardInterrupt\n"
     ]
    }
   ],
   "source": [
    "!sourmash gather data/iHMP-PSM7J4EF.sig data/gtdb-release89-k31.sbt.zip"
   ]
  },
  {
   "cell_type": "code",
   "execution_count": 9,
   "metadata": {},
   "outputs": [
    {
     "name": "stdout",
     "output_type": "stream",
     "text": [
      "\r",
      "\u001b[K\r\n",
      "== This is sourmash version 3.2.4.dev5+g6484e78f. ==\r\n",
      "\r",
      "\u001b[K== Please cite Brown and Irber (2016), doi:10.21105/joss.00027. ==\r\n",
      "\r\n",
      "usage:  gather [-h] [-q] [-d] [--traverse-directory] [-o FILE]\r\n",
      "               [--save-matches FILE] [--threshold-bp REAL]\r\n",
      "               [--output-unassigned FILE] [--scaled FLOAT]\r\n",
      "               [--ignore-abundance] [-k K] [--protein] [--no-protein]\r\n",
      "               [--dayhoff] [--no-dayhoff] [--hp] [--no-hp] [--dna] [--no-dna]\r\n",
      "               query databases [databases ...]\r\n",
      "\r\n",
      "positional arguments:\r\n",
      "  query                 query signature\r\n",
      "  databases             signatures/SBTs to search\r\n",
      "\r\n",
      "optional arguments:\r\n",
      "  -h, --help            show this help message and exit\r\n",
      "  -q, --quiet           suppress non-error output\r\n",
      "  -d, --debug\r\n",
      "  --traverse-directory  search all signatures underneath directories\r\n",
      "  -o FILE, --output FILE\r\n",
      "                        output CSV containing matches to this file\r\n",
      "  --save-matches FILE   save the matched signatures from the database to the\r\n",
      "                        specified file\r\n",
      "  --threshold-bp REAL   threshold (in bp) for reporting results\r\n",
      "                        (default=50,000)\r\n",
      "  --output-unassigned FILE\r\n",
      "                        output unassigned portions of the query as a signature\r\n",
      "                        to the specified file\r\n",
      "  --scaled FLOAT        downsample query to the specified scaled factor\r\n",
      "  --ignore-abundance    do NOT use k-mer abundances if present\r\n",
      "  -k K, --ksize K       k-mer size; default=31\r\n",
      "  --protein             choose a protein signature; by default, a nucleotide\r\n",
      "                        signature is used\r\n",
      "  --no-protein          do not choose a protein signature\r\n",
      "  --dayhoff             build Dayhoff-encoded amino acid signatures\r\n",
      "  --no-dayhoff          do not build Dayhoff-encoded amino acid signatures\r\n",
      "  --hp, --hydrophobic-polar\r\n",
      "                        build hydrophobic-polar-encoded amino acid signatures\r\n",
      "  --no-hp, --no-hydrophobic-polar\r\n",
      "                        do not build hydrophobic-polar-encoded amino acid\r\n",
      "                        signatures\r\n",
      "  --dna, --rna          choose a nucleotide signature (default: True)\r\n",
      "  --no-dna, --no-rna    do not choose a nucleotide signature\r\n"
     ]
    }
   ],
   "source": [
    "!sourmash gather -h"
   ]
  },
  {
   "cell_type": "code",
   "execution_count": 10,
   "metadata": {},
   "outputs": [
    {
     "name": "stdout",
     "output_type": "stream",
     "text": [
      "\u001b[K\n",
      "== This is sourmash version 3.2.4.dev5+g6484e78f. ==\n",
      "\u001b[K== Please cite Brown and Irber (2016), doi:10.21105/joss.00027. ==\n",
      "\n",
      "\u001b[Kselecting default query k=31.\n",
      "\u001b[Kloaded query: outputs/abundtrim/PSM7J4EF.abu... (k=31, DNA)\n",
      "\u001b[Kdownsampling query from scaled=2000 to 10000\n",
      "\u001b[Kloaded 1 databases.                                                            \n",
      "\n",
      "\n",
      "overlap     p_query p_match avg_abund\n",
      "---------   ------- ------- ---------\n",
      "4.0 Mbp       20.2%   71.2%       6.5    GCF_000156075 s__Bacteroides_B dorei\n",
      "2.3 Mbp        3.7%   44.7%       2.2    GCF_000690815 s__Escherichia coli\n",
      "2.1 Mbp        4.5%   42.0%       2.8    GCF_000025985 s__Bacteroides fragilis\n",
      "2.0 Mbp        4.1%   31.6%       2.6    GCF_001314995 s__Bacteroides ovatus\n",
      "1.4 Mbp        2.5%   31.1%       2.3    GCF_000154205 s__Bacteroides uniformis\n",
      "1.4 Mbp        3.0%   45.9%       2.9    GCF_900112995 s__Lachnospira rogosae\n",
      "1.1 Mbp        2.5%   27.2%       3.2    GCF_000020605 s__Agathobacter rectale\n",
      "1.0 Mbp        2.5%   50.3%       3.3    GCF_000160055 s__Dialister invisus\n",
      "1.0 Mbp        1.7%   33.6%       2.2    GCF_000205025 s__Parasutterella excre...\n",
      "1.0 Mbp        1.4%   37.8%       2.5    GCA_000980495 s__Parasutterella sp000...\n",
      "0.7 Mbp        0.9%   14.4%       1.9    GCF_000155815 s__Bacteroides eggerthii\n",
      "0.6 Mbp        1.0%   18.7%       2.3    GCF_003024715 s__Clostridium_Q sp0030...\n",
      "0.6 Mbp        1.1%   19.2%       2.5    GCF_000162015 s__Faecalibacterium pra...\n",
      "1.2 Mbp        1.1%    9.7%       2.7    GCA_000210075 s__Bacteroides xylaniso...\n",
      "0.5 Mbp        0.8%   10.9%       2.0    GCF_000012845 s__Parabacteroides dist...\n",
      "\u001b[Kfound less than 50.0 kbp in common. => exiting\n",
      "\n",
      "found 15 matches total;\n",
      "the recovered matches hit 51.1% of the query\n",
      "\n",
      "\u001b[Ksaving all matches to \"iHMP-matches.sig\"\n"
     ]
    }
   ],
   "source": [
    "!sourmash gather data/iHMP-PSM7J4EF.sig data/gtdb-release89-k31.sbt.zip \\\n",
    "    --scaled=10000 --save-matches=iHMP-matches.sig"
   ]
  },
  {
   "cell_type": "code",
   "execution_count": 12,
   "metadata": {},
   "outputs": [],
   "source": [
    "import sourmash"
   ]
  },
  {
   "cell_type": "code",
   "execution_count": 18,
   "metadata": {},
   "outputs": [
    {
     "name": "stdout",
     "output_type": "stream",
     "text": [
      "0.3729956268221574 GCF_000156075 s__Bacteroides_B dorei\n"
     ]
    }
   ],
   "source": [
    "list_of_sigs = sourmash.load_signatures('iHMP-matches.sig')\n",
    "\n",
    "query_sig = sourmash.load_one_signature('data/iHMP-PSM7J4EF.sig', ksize=31)\n",
    "\n",
    "def best_match(q, los):\n",
    "    best_score = 0\n",
    "    best_sig = None\n",
    "    for subj in los:\n",
    "        score = subj.contained_by(q, downsample=True)\n",
    "        if score > best_score:\n",
    "            best_score = score\n",
    "            best_sig = subj\n",
    "            \n",
    "    return best_score, best_sig\n",
    "\n",
    "this_mh = query_sig.minhash.copy_and_clear()\n",
    "this_mh.add_many(query_sig.minhash.get_mins())\n",
    "this_sig = sourmash.SourmashSignature(this_mh)\n",
    "\n",
    "while 1:\n",
    "    score, match = best_match(this_sig, list_of_sigs)\n",
    "    \n",
    "    if not match:\n",
    "        break\n",
    "    print(score, match.name())\n",
    "   \n",
    "    # remove the best match from the query signature, and then iterate\n",
    "    query_mh = this_sig.minhash\n",
    "    query_mh.remove_many(match.minhash.get_mins())\n",
    "    this_sig = sourmash.SourmashSignature(query_mh)\n",
    "    \n",
    "\n",
    "\n"
   ]
  },
  {
   "cell_type": "code",
   "execution_count": null,
   "metadata": {},
   "outputs": [],
   "source": [
    "\n"
   ]
  },
  {
   "cell_type": "code",
   "execution_count": null,
   "metadata": {},
   "outputs": [],
   "source": []
  }
 ],
 "metadata": {
  "kernelspec": {
   "display_name": "Python (myenv)",
   "language": "python",
   "name": "myenv"
  },
  "language_info": {
   "codemirror_mode": {
    "name": "ipython",
    "version": 3
   },
   "file_extension": ".py",
   "mimetype": "text/x-python",
   "name": "python",
   "nbconvert_exporter": "python",
   "pygments_lexer": "ipython3",
   "version": "3.7.6"
  }
 },
 "nbformat": 4,
 "nbformat_minor": 4
}
