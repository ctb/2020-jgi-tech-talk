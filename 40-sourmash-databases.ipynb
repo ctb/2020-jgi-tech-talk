{
 "cells": [
  {
   "cell_type": "markdown",
   "metadata": {},
   "source": [
    "# sourmash prepared databases"
   ]
  },
  {
   "cell_type": "markdown",
   "metadata": {},
   "source": [
    "* doing a linear search is straightforward, but not fast on thousands of signatures\n",
    "* we have two types of databases in sourmash, SBT (disk but not memory intensive) and LCA (memory but not disk intensive)\n",
    "* indexing is reasonably lightweight, too\n",
    "* we have included two databases storing the 25k GTDB release89 guide genomes in the data/ directory, let's play!\n",
    "* note that databases in sourmash can be added incrementally, so no need to reindex entire data set to add new signatures to a search."
   ]
  },
  {
   "cell_type": "code",
   "execution_count": null,
   "metadata": {},
   "outputs": [],
   "source": []
  }
 ],
 "metadata": {
  "kernelspec": {
   "display_name": "Python (myenv)",
   "language": "python",
   "name": "myenv"
  },
  "language_info": {
   "codemirror_mode": {
    "name": "ipython",
    "version": 3
   },
   "file_extension": ".py",
   "mimetype": "text/x-python",
   "name": "python",
   "nbconvert_exporter": "python",
   "pygments_lexer": "ipython3",
   "version": "3.7.6"
  }
 },
 "nbformat": 4,
 "nbformat_minor": 4
}
