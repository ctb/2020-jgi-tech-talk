{
 "cells": [
  {
   "cell_type": "markdown",
   "metadata": {},
   "source": [
    "# sourmash prepared databases"
   ]
  },
  {
   "cell_type": "markdown",
   "metadata": {},
   "source": [
    "* doing a linear search is straightforward, but not fast on thousands of signatures\n",
    "* we have two types of databases in sourmash, SBT (disk but not memory intensive) and LCA (memory but not disk intensive)\n",
    "* indexing is reasonably lightweight, too\n",
    "* we have included two databases storing the 25k GTDB release89 guide genomes in the data/ directory, let's play!\n",
    "* note that databases in sourmash can chained on the command line, so no need to reindex entire data set to add new signatures to a search."
   ]
  },
  {
   "cell_type": "code",
   "execution_count": 1,
   "metadata": {},
   "outputs": [
    {
     "name": "stdout",
     "output_type": "stream",
     "text": [
      "\u001b[34mMAGs\u001b[m\u001b[m/                           gtdb-release89-k31.lca.json.gz\r\n",
      "Makefile                        gtdb-release89-k31.sbt.zip\r\n",
      "README.md                       iHMP-PSM7J4EF.sig\r\n",
      "\u001b[34mTara-MS\u001b[m\u001b[m/                        podar-lineage.csv\r\n",
      "akker-reads.abundtrim.gz        shew-reads.abundtrim.gz\r\n",
      "\u001b[34mbak\u001b[m\u001b[m/                            twofoo.fq.gz\r\n",
      "\u001b[34mgenomes\u001b[m\u001b[m/\r\n"
     ]
    }
   ],
   "source": [
    "ls data"
   ]
  },
  {
   "cell_type": "code",
   "execution_count": 4,
   "metadata": {},
   "outputs": [
    {
     "name": "stdout",
     "output_type": "stream",
     "text": [
      "\u001b[K\n",
      "== This is sourmash version 3.2.4.dev5+g6484e78f. ==\n",
      "\u001b[K== Please cite Brown and Irber (2016), doi:10.21105/joss.00027. ==\n",
      "\n",
      "\u001b[Kselecting default query k=31.\n",
      "\u001b[Kloaded query: CP001071.1 Akkermansia mucinip... (k=31, DNA)\n",
      "\u001b[Kloaded 2 signatures and 1 databases total.                                     \n",
      "\n",
      "2 matches:\n",
      "similarity   match\n",
      "----------   -----\n",
      "100.0%       GCF_000020225 s__Akkermansia muciniphila\n",
      " 12.1%       GCF_900184965 s__Akkermansia muciniphila_A\n"
     ]
    }
   ],
   "source": [
    "!sourmash search 2.fa.sig data/gtdb-release89-k31.sbt.zip 63.fa.sig 47.fa.sig"
   ]
  },
  {
   "cell_type": "code",
   "execution_count": 3,
   "metadata": {},
   "outputs": [
    {
     "name": "stdout",
     "output_type": "stream",
     "text": [
      "\u001b[K\n",
      "== This is sourmash version 3.2.4.dev5+g6484e78f. ==\n",
      "\u001b[K== Please cite Brown and Irber (2016), doi:10.21105/joss.00027. ==\n",
      "\n",
      "\u001b[Kselecting default query k=31.\n",
      "\u001b[Kloaded query: CP001071.1 Akkermansia mucinip... (k=31, DNA)\n",
      "\u001b[Kloaded 1 databases.                                                            \n",
      "\n",
      "2 matches:\n",
      "similarity   match\n",
      "----------   -----\n",
      "100.0%       GCF_000020225 s__Akkermansia muciniphila\n",
      " 10.3%       GCF_900184965 s__Akkermansia muciniphila_A\n"
     ]
    }
   ],
   "source": [
    "!sourmash search 2.fa.sig data/gtdb-release89-k31.lca.json.gz"
   ]
  },
  {
   "cell_type": "code",
   "execution_count": null,
   "metadata": {},
   "outputs": [],
   "source": []
  }
 ],
 "metadata": {
  "kernelspec": {
   "display_name": "Python (myenv)",
   "language": "python",
   "name": "myenv"
  },
  "language_info": {
   "codemirror_mode": {
    "name": "ipython",
    "version": 3
   },
   "file_extension": ".py",
   "mimetype": "text/x-python",
   "name": "python",
   "nbconvert_exporter": "python",
   "pygments_lexer": "ipython3",
   "version": "3.7.6"
  }
 },
 "nbformat": 4,
 "nbformat_minor": 4
}
