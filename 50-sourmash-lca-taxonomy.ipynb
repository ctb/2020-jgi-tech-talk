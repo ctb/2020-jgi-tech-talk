{
 "cells": [
  {
   "cell_type": "markdown",
   "metadata": {},
   "source": [
    "# sourmash taxonomy"
   ]
  },
  {
   "cell_type": "markdown",
   "metadata": {},
   "source": [
    "* our LCA databases currently include taxonomic information\n",
    "* we support free taxonomy, so NCBI or GTDB or whatever\n",
    "* (demonstration of lca summarize and lca classify)\n",
    "* constructing a new database"
   ]
  },
  {
   "cell_type": "code",
   "execution_count": 13,
   "metadata": {},
   "outputs": [
    {
     "name": "stdout",
     "output_type": "stream",
     "text": [
      "\u001b[K\n",
      "== This is sourmash version 3.2.4.dev5+g6484e78f. ==\n",
      "\u001b[K== Please cite Brown and Irber (2016), doi:10.21105/joss.00027. ==\n",
      "\n",
      "\u001b[Kexamining spreadsheet headers...\n",
      "\u001b[K** assuming column 'accession' is identifiers in spreadsheet\n",
      "\u001b[K64 distinct identities in spreadsheet out of 64 rows.\n",
      "\u001b[K64 distinct lineages in spreadsheet out of 64 rows.\n",
      "\u001b[K3 assigned lineages out of 64 distinct lineages in spreadsheet.; skipped 0 so far\n",
      "\u001b[K3 identifiers used out of 64 distinct identifiers in spreadsheet.\n",
      "\u001b[Ksaving to LCA DB: example.lca.json\n",
      "\u001b[KWARNING: no signatures for 61 lineage assignments.\n",
      "\u001b[KWARNING: 61 unused lineages.\n",
      "\u001b[KWARNING: 61 unused identifiers.\n",
      "\u001b[K(You can use --report to generate a detailed report.)\n"
     ]
    }
   ],
   "source": [
    "# constructing an LCA database\n",
    "!sourmash lca index -k 31 data/podar-lineage.csv example.lca.json *.fa.sig -C 3 --split-identifiers"
   ]
  },
  {
   "cell_type": "code",
   "execution_count": 14,
   "metadata": {},
   "outputs": [
    {
     "name": "stdout",
     "output_type": "stream",
     "text": [
      "\u001b[K\n",
      "== This is sourmash version 3.2.4.dev5+g6484e78f. ==\n",
      "\u001b[K== Please cite Brown and Irber (2016), doi:10.21105/joss.00027. ==\n",
      "\n",
      "\u001b[Kloaded 1 LCA databases. ksize=31, scaled=10000\n",
      "\u001b[Kfinding query signatures...\n",
      "\u001b[Kloaded 1 signatures from 1 files total.niphila ATCC BAA-835, complete genome (file 1 of 1)\n",
      "100.0%   274   Bacteria;Verrucomicrobia;Verrucomicrobiae;Verrucomicrobiales;Akkermansiaceae;Akkermansia;Akkermansia muciniphila;Akkermansia muciniphila ATCC BAA-835\n",
      "100.0%   274   Bacteria;Verrucomicrobia;Verrucomicrobiae;Verrucomicrobiales;Akkermansiaceae;Akkermansia;Akkermansia muciniphila\n",
      "100.0%   274   Bacteria;Verrucomicrobia;Verrucomicrobiae;Verrucomicrobiales;Akkermansiaceae;Akkermansia\n",
      "100.0%   274   Bacteria;Verrucomicrobia;Verrucomicrobiae;Verrucomicrobiales;Akkermansiaceae\n",
      "100.0%   274   Bacteria;Verrucomicrobia;Verrucomicrobiae;Verrucomicrobiales\n",
      "100.0%   274   Bacteria;Verrucomicrobia;Verrucomicrobiae\n",
      "100.0%   274   Bacteria;Verrucomicrobia\n",
      "100.0%   274   Bacteria\n"
     ]
    }
   ],
   "source": [
    "!sourmash lca summarize --db example.lca.json --query 2.fa.sig"
   ]
  },
  {
   "cell_type": "code",
   "execution_count": 10,
   "metadata": {},
   "outputs": [
    {
     "name": "stdout",
     "output_type": "stream",
     "text": [
      "\r",
      "\u001b[K\r\n",
      "== This is sourmash version 3.2.4.dev5+g6484e78f. ==\r\n",
      "\r",
      "\u001b[K== Please cite Brown and Irber (2016), doi:10.21105/joss.00027. ==\r\n",
      "\r\n",
      "\r",
      "\u001b[K\r",
      "\u001b[K\r",
      "\u001b[K... loading database example.lca.json\r",
      "\r",
      "\u001b[K\r",
      "\u001b[K\r",
      "\u001b[Kloaded 1 LCA databases. ksize=31, scaled=10000\r\n",
      "\r",
      "\u001b[Kfinding query signatures...\r\n",
      "\r",
      "\u001b[K\r",
      "\u001b[K\r",
      "\u001b[K... loading CP001071.1 Akkermansia muciniphila ATCC BAA-835, complete genome (file 1 of 1)\r",
      "\r",
      "\u001b[K\r",
      "\u001b[K\r",
      "\u001b[Kloaded 1 signatures from 1 files total.\r\n"
     ]
    }
   ],
   "source": [
    "cat out.txt"
   ]
  },
  {
   "cell_type": "code",
   "execution_count": null,
   "metadata": {},
   "outputs": [],
   "source": []
  }
 ],
 "metadata": {
  "kernelspec": {
   "display_name": "Python (myenv)",
   "language": "python",
   "name": "myenv"
  },
  "language_info": {
   "codemirror_mode": {
    "name": "ipython",
    "version": 3
   },
   "file_extension": ".py",
   "mimetype": "text/x-python",
   "name": "python",
   "nbconvert_exporter": "python",
   "pygments_lexer": "ipython3",
   "version": "3.7.6"
  }
 },
 "nbformat": 4,
 "nbformat_minor": 4
}
