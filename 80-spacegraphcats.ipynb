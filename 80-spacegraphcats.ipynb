{
 "cells": [
  {
   "cell_type": "markdown",
   "metadata": {},
   "source": [
    "# spacegraphcats!\n"
   ]
  },
  {
   "cell_type": "markdown",
   "metadata": {},
   "source": [
    "This is a different piece of software than sourmash... it does neighborhood queries in large metagenomes.\n",
    "\n",
    "See [the paper](https://www.biorxiv.org/content/10.1101/462788v3) and [the paper repository](https://github.com/spacegraphcats/2018-paper-spacegraphcats/pull/17)\n",
    "\n",
    "Let's try running it and look at the output files --\n",
    "\n",
    "* config file\n",
    "* example data set\n",
    "* output files\n",
    "\n",
    "Note that spacegraphcats is built around snakemake. See [workflows as applications](http://ivory.idyll.org/blog/2018-workflows-applications.html)."
   ]
  },
  {
   "cell_type": "code",
   "execution_count": null,
   "metadata": {},
   "outputs": [],
   "source": []
  }
 ],
 "metadata": {
  "kernelspec": {
   "display_name": "Python (myenv)",
   "language": "python",
   "name": "myenv"
  },
  "language_info": {
   "codemirror_mode": {
    "name": "ipython",
    "version": 3
   },
   "file_extension": ".py",
   "mimetype": "text/x-python",
   "name": "python",
   "nbconvert_exporter": "python",
   "pygments_lexer": "ipython3",
   "version": "3.7.6"
  }
 },
 "nbformat": 4,
 "nbformat_minor": 4
}
