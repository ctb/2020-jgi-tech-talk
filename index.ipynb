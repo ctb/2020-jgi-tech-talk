{
 "cells": [
  {
   "cell_type": "markdown",
   "metadata": {},
   "source": [
    "# Welcome!\n",
    "\n",
    "This is a repository for a JGI tech talk about sourmash and spacegraphcats that Titus Brown is giving on May 8, 2020.\n",
    "\n",
    "See [ctb/2020-jgi-tech-talk](https://github.com/ctb/2020-jgi-tech-talk) for the source repository.\n",
    "\n",
    "See [the blog post](http://ivory.idyll.org/blog/2020-talks-at-jgi.html) for info on the talk.\n",
    "\n",
    "See all of the notebooks in this repository for the various bits and pieces of the tech talk!\n",
    "\n",
    "The tech talk will be livestreamed at https://twitch.tv/ctitusbrown, and should be recorded there as well.\n",
    "\n",
    "----\n",
    "\n",
    "The sourmash software: https://github.com/dib-lab/sourmash/\n",
    "\n",
    "The spacegraphcats software: https://github.com/spacegraphcats/spacegraphcats/"
   ]
  },
  {
   "cell_type": "markdown",
   "metadata": {},
   "source": [
    "### [00-setup - run me first, to download data](00-setup.ipynb)\n",
    "\n",
    "### [10-sourmash-intro - we'll start here](10-sourmash-intro.ipynb)"
   ]
  },
  {
   "cell_type": "code",
   "execution_count": null,
   "metadata": {},
   "outputs": [],
   "source": []
  }
 ],
 "metadata": {
  "kernelspec": {
   "display_name": "Python (myenv)",
   "language": "python",
   "name": "myenv"
  },
  "language_info": {
   "codemirror_mode": {
    "name": "ipython",
    "version": 3
   },
   "file_extension": ".py",
   "mimetype": "text/x-python",
   "name": "python",
   "nbconvert_exporter": "python",
   "pygments_lexer": "ipython3",
   "version": "3.7.6"
  }
 },
 "nbformat": 4,
 "nbformat_minor": 4
}
